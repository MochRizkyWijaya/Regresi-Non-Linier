{
  "nbformat": 4,
  "nbformat_minor": 0,
  "metadata": {
    "kernelspec": {
      "display_name": "Python 3",
      "language": "python",
      "name": "python3"
    },
    "language_info": {
      "codemirror_mode": {
        "name": "ipython",
        "version": 3
      },
      "file_extension": ".py",
      "mimetype": "text/x-python",
      "name": "python",
      "nbconvert_exporter": "python",
      "pygments_lexer": "ipython3",
      "version": "3.7.0"
    },
    "colab": {
      "name": "Regresi_non_linear.ipynb",
      "version": "0.3.2",
      "provenance": [],
      "collapsed_sections": []
    }
  },
  "cells": [
    {
      "cell_type": "markdown",
      "metadata": {
        "id": "jcen9789Fuj7",
        "colab_type": "text"
      },
      "source": [
        "<h1 style=\"text-align: center;\">Regresi Non Linear</h1>\n",
        "<table>\n",
        "<tbody>\n",
        "<tr>\n",
        "<td style=\"text-align: left;\">Penulis</td>\n",
        "<td style=\"text-align: left;\">:</td>\n",
        "<td style=\"text-align: left;\">Moch Rizky Wijaya</td>\n",
        "</tr>\n",
        "<td style=\"text-align: left;\">Fungsi Non Linear yang dipakai</td>\n",
        "<td style=\"text-align: left;\">:</td>\n",
        "<td style=\"text-align: left;\">Fungsi Sigmoidal/Logistic</td>\n",
        "</tbody>\n",
        "</table>\n",
        "<p>&nbsp;</p>"
      ]
    },
    {
      "cell_type": "code",
      "metadata": {
        "id": "StbvWwasFuj8",
        "colab_type": "code",
        "colab": {}
      },
      "source": [
        "xdata = [0.,         0.08163265, 0.16326531, 0.24489796, 0.32653061, 0.40816327,\n",
        " 0.48979592, 0.57142857, 0.65306122, 0.73469388, 0.81632653, 0.89795918,\n",
        " 0.97959184, 1.06122449, 1.14285714, 1.2244898,  1.30612245, 1.3877551,\n",
        " 1.46938776, 1.55102041, 1.63265306, 1.71428571, 1.79591837, 1.87755102,\n",
        " 1.95918367, 2.04081633, 2.12244898, 2.20408163, 2.28571429, 2.36734694,\n",
        " 2.44897959, 2.53061224, 2.6122449,  2.69387755, 2.7755102,  2.85714286,\n",
        " 2.93877551, 3.02040816, 3.10204082, 3.18367347, 3.26530612, 3.34693878,\n",
        " 3.42857143, 3.51020408, 3.59183673, 3.67346939, 3.75510204, 3.83673469,\n",
        " 3.91836735, 4.        ]\n",
        "ydata = [2.86253211, 2.58408736, 2.85238869, 2.20328028, 2.35505211, 2.15580098,\n",
        " 1.62385977, 1.51773747, 1.58460558, 1.56780331, 1.38926991, 1.23309392,\n",
        " 0.88831179, 1.14039132, 1.09814583, 0.58195014, 0.97957583, 1.00016637,\n",
        " 0.94937867, 0.88281865, 1.05904456, 0.51311865, 0.54700714, 0.66390699,\n",
        " 0.47465497, 0.65048962, 0.53479316, 0.44458898, 0.05609672, 0.45631037,\n",
        " 0.54242354, 0.93328116, 0.45668558, 0.57625432, 0.79441476, 0.58926037,\n",
        " 0.97314073, 0.29536801, 0.39975342, 0.53597812, 0.49927828, 0.30842097,\n",
        " 0.38933359, 0.9474868,  0.5229339,  0.60288646, 0.5756889,  0.1270815,\n",
        " 0.59254164, 0.55991963]"
      ],
      "execution_count": 0,
      "outputs": []
    },
    {
      "cell_type": "code",
      "metadata": {
        "id": "wqBdZP18Fuj_",
        "colab_type": "code",
        "colab": {}
      },
      "source": [
        "#tulis library yang dibutuhkan\n",
        "import numpy as np\n",
        "import matplotlib.pyplot as plt\n",
        "%matplotlib inline\n",
        "import math\n",
        "import pandas as pd\n",
        "from scipy.optimize import curve_fit\n",
        "np.random.seed(100)"
      ],
      "execution_count": 0,
      "outputs": []
    },
    {
      "cell_type": "code",
      "metadata": {
        "id": "zjk-lLvwF9CX",
        "colab_type": "code",
        "outputId": "9792fd2b-ba6a-426e-9dce-7b69a3bcdb68",
        "colab": {
          "base_uri": "https://localhost:8080/",
          "height": 204
        }
      },
      "source": [
        "df = {'x' : xdata, 'y' : ydata}\n",
        "data = pd.DataFrame(df)\n",
        "data.head()"
      ],
      "execution_count": 0,
      "outputs": [
        {
          "output_type": "execute_result",
          "data": {
            "text/html": [
              "<div>\n",
              "<style scoped>\n",
              "    .dataframe tbody tr th:only-of-type {\n",
              "        vertical-align: middle;\n",
              "    }\n",
              "\n",
              "    .dataframe tbody tr th {\n",
              "        vertical-align: top;\n",
              "    }\n",
              "\n",
              "    .dataframe thead th {\n",
              "        text-align: right;\n",
              "    }\n",
              "</style>\n",
              "<table border=\"1\" class=\"dataframe\">\n",
              "  <thead>\n",
              "    <tr style=\"text-align: right;\">\n",
              "      <th></th>\n",
              "      <th>x</th>\n",
              "      <th>y</th>\n",
              "    </tr>\n",
              "  </thead>\n",
              "  <tbody>\n",
              "    <tr>\n",
              "      <th>0</th>\n",
              "      <td>0.000000</td>\n",
              "      <td>2.862532</td>\n",
              "    </tr>\n",
              "    <tr>\n",
              "      <th>1</th>\n",
              "      <td>0.081633</td>\n",
              "      <td>2.584087</td>\n",
              "    </tr>\n",
              "    <tr>\n",
              "      <th>2</th>\n",
              "      <td>0.163265</td>\n",
              "      <td>2.852389</td>\n",
              "    </tr>\n",
              "    <tr>\n",
              "      <th>3</th>\n",
              "      <td>0.244898</td>\n",
              "      <td>2.203280</td>\n",
              "    </tr>\n",
              "    <tr>\n",
              "      <th>4</th>\n",
              "      <td>0.326531</td>\n",
              "      <td>2.355052</td>\n",
              "    </tr>\n",
              "  </tbody>\n",
              "</table>\n",
              "</div>"
            ],
            "text/plain": [
              "          x         y\n",
              "0  0.000000  2.862532\n",
              "1  0.081633  2.584087\n",
              "2  0.163265  2.852389\n",
              "3  0.244898  2.203280\n",
              "4  0.326531  2.355052"
            ]
          },
          "metadata": {
            "tags": []
          },
          "execution_count": 195
        }
      ]
    },
    {
      "cell_type": "markdown",
      "metadata": {
        "id": "cgCSkgUQWYGG",
        "colab_type": "text"
      },
      "source": [
        "### Sigmoidal/Logistic\n",
        "$$ Y = a + \\frac{b}{1+ c^{(X-d)}}$$"
      ]
    },
    {
      "cell_type": "code",
      "metadata": {
        "id": "daMOJogAFukB",
        "colab_type": "code",
        "colab": {}
      },
      "source": [
        "#tuliskan function yang dibutuhkan\n",
        "def sigmoidal(x, a, b, c, d):\n",
        "  y = a + b/(1+c**(x-d))\n",
        "  return y"
      ],
      "execution_count": 0,
      "outputs": []
    },
    {
      "cell_type": "code",
      "metadata": {
        "id": "HipQw94iFukD",
        "colab_type": "code",
        "outputId": "738df5b2-a8bb-450b-dd01-e8f57b79def7",
        "colab": {
          "base_uri": "https://localhost:8080/",
          "height": 269
        }
      },
      "source": [
        "#plot data xdata dengan ydata\n",
        "plt.scatter(xdata, ydata)\n",
        "plt.show()"
      ],
      "execution_count": 0,
      "outputs": [
        {
          "output_type": "display_data",
          "data": {
            "image/png": "[encoded data removed]",
            "text/plain": [
              "<Figure size 432x288 with 1 Axes>"
            ]
          },
          "metadata": {
            "tags": []
          }
        }
      ]
    },
    {
      "cell_type": "code",
      "metadata": {
        "id": "Km5c70qIFukE",
        "colab_type": "code",
        "colab": {}
      },
      "source": [
        "#bagi data set anda menjadi training dan testing\n",
        "msk = np.random.rand(len(data)) < 0.8\n",
        "\n",
        "#Change list into array type\n",
        "x_data = np.asarray(xdata)\n",
        "y_data = np.asarray(ydata)\n",
        "\n",
        "# # Lets normalize our data\n",
        "nxdata =x_data/max(x_data)\n",
        "nydata =y_data/max(y_data)\n",
        "\n",
        "train_x = nxdata[msk]\n",
        "test_x = nxdata[~msk]\n",
        "train_y = nydata[msk]\n",
        "test_y = nydata[~msk]"
      ],
      "execution_count": 0,
      "outputs": []
    },
    {
      "cell_type": "code",
      "metadata": {
        "id": "HmxetXfhFukG",
        "colab_type": "code",
        "outputId": "5b98edf5-c317-4c99-a477-34530993e36d",
        "colab": {
          "base_uri": "https://localhost:8080/",
          "height": 51
        }
      },
      "source": [
        "#lakukan training data dengan curve fit dan parameter func\n",
        "# build the model using train set\n",
        "popt, pcov = curve_fit(sigmoidal, train_x, train_y, maxfev=1000)"
      ],
      "execution_count": 0,
      "outputs": [
        {
          "output_type": "stream",
          "text": [
            "/usr/local/lib/python3.6/dist-packages/ipykernel_launcher.py:2: RuntimeWarning: invalid value encountered in power\n",
            "  \n"
          ],
          "name": "stderr"
        }
      ]
    },
    {
      "cell_type": "code",
      "metadata": {
        "id": "tI5HUDm9NXNM",
        "colab_type": "code",
        "outputId": "328d59a1-36bd-4788-8d71-85f016d5b2a2",
        "colab": {
          "base_uri": "https://localhost:8080/",
          "height": 34
        }
      },
      "source": [
        "print(popt)"
      ],
      "execution_count": 0,
      "outputs": [
        {
          "output_type": "stream",
          "text": [
            "[ 1.87648742e+00 -1.70390350e+00  6.57507821e-04 -3.81909558e-04]\n"
          ],
          "name": "stdout"
        }
      ]
    },
    {
      "cell_type": "code",
      "metadata": {
        "id": "0YucE1WBFukI",
        "colab_type": "code",
        "outputId": "af2bca10-02b3-47bf-caa4-4b16fe2c55fd",
        "colab": {
          "base_uri": "https://localhost:8080/",
          "height": 337
        }
      },
      "source": [
        "#lakukan testing data dan tampilkan diagram sebarnya (scatter diagram) serta hasil perhitungan MSE\n",
        "# predict using test set\n",
        "y_hat = sigmoidal(test_x, *popt)\n",
        "\n",
        "# evaluation\n",
        "print(\"Mean absolute error: %.2f\" % np.mean(np.absolute(y_hat - test_y)))\n",
        "print(\"Residual sum of squares (MSE): %.10f\" % np.mean((y_hat - test_y) ** 2))\n",
        "\n",
        "from sklearn.metrics import r2_score\n",
        "print(\"R2-score: %.2f\" % r2_score(y_hat , test_y) )\n",
        "\n",
        "plt.plot(test_x, y_hat, 'ro', label='data')\n",
        "plt.plot(test_x,test_y, 'go', linewidth=3.0, label='fit')\n",
        "plt.legend()"
      ],
      "execution_count": 0,
      "outputs": [
        {
          "output_type": "stream",
          "text": [
            "Mean absolute error: 0.06\n",
            "Residual sum of squares (MSE): 0.0055193348\n",
            "R2-score: 0.86\n"
          ],
          "name": "stdout"
        },
        {
          "output_type": "execute_result",
          "data": {
            "text/plain": [
              "<matplotlib.legend.Legend at 0x7f75b31a9320>"
            ]
          },
          "metadata": {
            "tags": []
          },
          "execution_count": 201
        },
        {
          "output_type": "display_data",
          "data": {
            "image/png": "[encoded data removed]",
            "text/plain": [
              "<Figure size 432x288 with 1 Axes>"
            ]
          },
          "metadata": {
            "tags": []
          }
        }
      ]
    },
    {
      "cell_type": "code",
      "metadata": {
        "id": "2m89k7ugN2a7",
        "colab_type": "code",
        "outputId": "dbc940ab-2329-49f2-b2e1-1b92948d25ad",
        "colab": {
          "base_uri": "https://localhost:8080/",
          "height": 68
        }
      },
      "source": [
        "y_hat"
      ],
      "execution_count": 0,
      "outputs": [
        {
          "output_type": "execute_result",
          "data": {
            "text/plain": [
              "array([0.83545268, 0.61443546, 0.48389863, 0.33567239, 0.3149133 ,\n",
              "       0.28045199, 0.24307339, 0.23363397, 0.18159958, 0.18035312,\n",
              "       0.17835167, 0.17370039])"
            ]
          },
          "metadata": {
            "tags": []
          },
          "execution_count": 202
        }
      ]
    },
    {
      "cell_type": "markdown",
      "metadata": {
        "id": "eaYxmo2BFukK",
        "colab_type": "text"
      },
      "source": [
        "Jelaskan mengapa ada memilih fungsi tersebut!\n",
        "\n",
        "Pemilihan fungsi sigmoidal atau logistic karena fungsi tersebut memiliki parameter yang lebih banyak daripada fungsi yang lainnya pada contoh jupyter notebook **ML0101EN-Reg-NoneLinearRegression-py-v1.ipynb**. Sehingga hasil *fitting* lebih baik daripada fungsi yang lainnya.\n",
        "\n",
        "$$ Y = a + \\frac{b}{1+ c^{(X-d)}}$$\n",
        "\n",
        "Fungsi tersebut mengandung parameter X sebagai variabel bebas, Y sebagai variabel tetap, serta a,b, c, dan d sebagai konstanta"
      ]
    }
  ]
}